{
 "cells": [
  {
   "cell_type": "markdown",
   "id": "8545396f",
   "metadata": {},
   "source": [
    "# Biology 327 Lab: Week 6-intro to UNIX\n",
    "\n",
    "## Introduction to today's lab:\n",
    "\n",
    "- You are reading a Jupyter notebook. It is similar to an R notebook in that we can intermix code and text. It is divided into \"cells\". Some cells, like this one, just contain formatted text, others contain code.  \n",
    "\n",
    "- The computer running this notebook is called \"spiderweb.\" However, all of our analysis is going to happen on another computer, called \"spydur\" which we will connect to remotely.\n",
    "\n",
    "- **I recommend you set up a split screen**. Drag the top of this tab over to the right portion of your screen until it makes a light blue box, then release. That will put your terminal window next to the notebook.\n",
    "\n",
    "- **To edit text in any box, double click** and you will enter into an editing mode. To stop editing, hit \"Run\"--the triangle button at the top of the screen. DO NOT hit \"Run\" on the code blocks--you will just get error messages. That is because if you try to run the code from this window, it will run on the \"spiderweb\" computer. But all of the files and programs we need are actually on \"spydur\", so we have to copy our code to a different window.\n",
    "\n",
    "- Pro tip: triple-click on a line to highlight the entire line to copy and paste.\n",
    "\n",
    "- Make sure you complete all the parts and steps in today's lab; I will be checking your folders to make sure that you successfully made/moved all the files and folders as requested below. If you run into trouble, just ask for help!\n",
    "\n",
    "- When you answer questions, please leave the **Question:Text** and add your answer immediately after the **Answer here**; this makes it easier for me to find the questions and check your answers.\n",
    "\n",
    "- Save your work regularly (it should auto-save, but just to be safe)\n",
    "\n"
   ]
  },
  {
   "cell_type": "markdown",
   "id": "c4afd3c8",
   "metadata": {},
   "source": [
    "## Part 1: Learning our way around `spydur`\n",
    "\n",
    "1.\tTime for our first command. We are going to generate a “key” that will allow us to log in to the UR computing cluster, \"spydur\", without having to enter our annoying 16-digit netid password every time! In your **terminal window** (which is now likely on your left), type: `ssh-keygen`\n",
    "\n",
    "   - It will ask you for a filename-don't type anything-just hit enter\n",
    "   \n",
    "   - It will then ask you to create a password, but we do not need one. Hit enter for each question (in other words we are NOT going to put a password on our key)\n",
    "\n",
    "   - Somewhere it is going to say something along the lines of: `Your public key has been saved in [/home/[YOURNETID]/.ssh/id_rsa.pub`\n",
    "       and then it will print some nice little artwork. If that happens, the key has now been made and saved in your folder on spiderweb."
   ]
  },
  {
   "cell_type": "markdown",
   "id": "67424faa",
   "metadata": {},
   "source": [
    "2.\tNow we need to copy this key onto Spydur, the computing cluster, to allow us to log on in the future. Replace the file name you copied above (starting with `/home/` into the code below and change `YOURNETID` to your actual netid n both places it occurs in the code below to your computing id. Then copy the entire line into terminal and hit enter. Remember, *do not* hit \"Run\" on the next code block from this notebook, it will cause problems. But if you do by accident, just go to the menu and select Kernel--> Interrupt. All of the code from here on out needs to be edited in this document, then copied into your Terminal to run. "
   ]
  },
  {
   "cell_type": "code",
   "execution_count": null,
   "id": "f2b01764",
   "metadata": {},
   "outputs": [],
   "source": [
    "ssh-copy-id -i /home/YOURNETID/.ssh/id_rsa YOURNETID@spydur\n"
   ]
  },
  {
   "cell_type": "markdown",
   "id": "bcec6ff9",
   "metadata": {},
   "source": [
    "- You should be prompted to enter your password.  Do that now. *Don't worry: it won't show up that you are typing anything* the cursor will stay in the same place. You get three tries to get it right. If it works, you will get a large block of text beginning with `This is a University of Richmond (UofR) computer system.`\n"
   ]
  },
  {
   "cell_type": "markdown",
   "id": "80097c1e",
   "metadata": {},
   "source": [
    "3. With our keys in place, we are going to log into Spydur(the command is called `ssh` in Unix lingo) to start working. Edit the line below to replace `YOURNETID` with your actual netid (in lowercase letters), then copy and paste the entire line, including the `ssh`, into your Terminal"
   ]
  },
  {
   "cell_type": "code",
   "execution_count": null,
   "id": "6790de79",
   "metadata": {},
   "outputs": [],
   "source": [
    "ssh YOURNETID@spydur"
   ]
  },
  {
   "cell_type": "markdown",
   "id": "1a2b44c9",
   "metadata": {},
   "source": [
    "4. With any luck, you should be logged into spydur and should see a long message again beginning with `This is a University of Richmond (UofR) computer system.`. If not, just ask for help!\n",
    "\n",
    "\n",
    "5.  Let’s do some exploring to learn some basic commands to work in this environment. Just like your laptop, Linux computers work through a series of folders or directories.  First find out what folder directory you are in by typing `pwd` in your terminal. `pwd` stands for \"print working directory\". \n",
    "\n",
    "**Question What directory are you in?**\n",
    "\n",
    "**Answer here**"
   ]
  },
  {
   "cell_type": "markdown",
   "id": "bafafc7e",
   "metadata": {},
   "source": [
    "6. The location you see above  is representing your location on the computer in a heirarchical directory. Each slash represents a folder within a folder. So the first folder is `home` and the second folder inside that folder is called `yournetid`.  It is just like the \"Downloads\" or \"Desktop\" folder on your computer.\n",
    "\n",
    "    The series of folders separated by slashes is called a **path**. Every file on every computer has a path that identifies its location on the computer. Keeping track of our paths is going to be important. We will use an organized set of folders to keep track of our work for the next several weeks of lab. \n",
    "\n",
    "    Your current directory, `/home/YOURNETID` is called your **home directory**—it is where you “are” in the computer when you first log in. \n"
   ]
  },
  {
   "cell_type": "markdown",
   "id": "551804ac",
   "metadata": {},
   "source": [
    "7. Now let’s see what folders are automatically already in this directory. To list all the files and folders in your current folder, type `ls` in your terminal (`ls` is short for \"list\"). Typing ls is the same as double clicking on a folder in your computer to see what's inside that folder."
   ]
  },
  {
   "cell_type": "markdown",
   "id": "7e009c87",
   "metadata": {},
   "source": [
    "**Question: What are the folders in your home directory?**\n",
    "\n",
    "**Answer here**"
   ]
  },
  {
   "cell_type": "markdown",
   "id": "251b3954",
   "metadata": {},
   "source": [
    "8. The folder called `shared_perickso` is where we will do all of our work for class--it's a folder that we all have access to. So you will be able to access files that your lab partner makes and I will be able to access everyone's work. Please respect the shared nature of this folder and only work on your own files and folders. "
   ]
  },
  {
   "cell_type": "markdown",
   "id": "0a641046",
   "metadata": {},
   "source": [
    "9. You can **c**hange **d**irectories (ie move to a different folder) with the command `cd` followed by the name of the folder you want to move to. If you are moving to a folder within your current folder, you just need to type the name of the folder you are going to. If you want to move to a folder that is not inside the current folder, you'll have to give the full path. \n",
    "\n",
    "Type `cd shared_perickso` in Terminal to move your current location to be inside the `shared_perickso` directory."
   ]
  },
  {
   "cell_type": "markdown",
   "id": "3cd39305",
   "metadata": {},
   "source": [
    "**Question: Without checking, predict what the full path of your current location will be. Hint: you started in /home/YOURNETID and went to the folder perickso_shared. Where will you be  after changing directories?**\n",
    "\n",
    "**Answer here** "
   ]
  },
  {
   "cell_type": "markdown",
   "id": "0b3f12b3",
   "metadata": {},
   "source": [
    "10. Now use the appropriate command to confirm your current location. \n",
    "**Question: Was your prediction correct? If not, what do you understand now?**\n",
    "\n",
    "**Answer here**"
   ]
  },
  {
   "cell_type": "markdown",
   "id": "5efaeaf0",
   "metadata": {},
   "source": [
    "11. Usually when you change directories it's useful to immediately see what's in that directory. Use the command you learned above to list the contents of the `shared_perickso` directory now that you are in it."
   ]
  },
  {
   "cell_type": "markdown",
   "id": "dd2e1d10",
   "metadata": {},
   "source": [
    "**Question: you don't need to name them all, but what are two of the files or folders in the `shared_perickso` directory?**\n",
    "\n",
    "**Answer here**"
   ]
  },
  {
   "cell_type": "markdown",
   "id": "2fa6b01b",
   "metadata": {},
   "source": [
    "12. If you accidentally wind up in a folder that you don't want to be in, you can use `cd ..` to move back up a folder. So if you are in /home/YOURNETID/shared_perickso and type `cd` you will move  \"up\" one folder into /home/YOURNEID. Try it right now: type the following series of commands one at time (without the numbers) to see how you can move between folders, check where you are, check the contents, and move back. You'll need to hit enter after each command. You do not need the ` ` marks around the command\n",
    "- `cd ..`\n",
    "- `pwd`\n",
    "- `ls`\n",
    "- `cd shared_perickso`\n",
    "- `pwd`\n",
    "- `ls`"
   ]
  },
  {
   "cell_type": "markdown",
   "id": "1709c6ee",
   "metadata": {},
   "source": [
    "## Part 2: Making your own directory and practicing Unix commands\n",
    "\n",
    "13.\tNow we are going to make our own personal folders in the “shared” directory. This will allow me to see your work if you get stuck, but we are going to protect them so that only you can edit the files. To make a directory with your first name, type the command below, but don’t include the `< >`. When teaching code, the carrots `< >` are used to indicate text that needs to be replaced by the user, *without the carrots*. So I would replace <your_first_name> with priscilla for the command `mkdir priscilla`"
   ]
  },
  {
   "cell_type": "code",
   "execution_count": null,
   "id": "903c9cc6",
   "metadata": {},
   "outputs": [],
   "source": [
    "mkdir <your_first_name>"
   ]
  },
  {
   "cell_type": "markdown",
   "id": "6d8011a8",
   "metadata": {},
   "source": [
    "14. Use an appropriate command that you learned above to confirm that your named directory now exists in `/home/YOURNETID/shared_perickso`\n",
    "\n",
    "15.\tOne more fun tip: `cd ~` will always take you back to your home directory (`/home/YOURNETID`) where you are when you first log in. If you ever get \"lost\", you can always `cd ~`  and find your way to the file or directory you were looking for. "
   ]
  },
  {
   "cell_type": "markdown",
   "id": "89e5f616",
   "metadata": {},
   "source": [
    "\n",
    "15. The commands you used in Terminal (e.g. `cd`, `ls`, `mkdir`) are called Unix commands – these are basically tiny programs that are stored somewhere in your computer and recognized when you  type them into the Terminal. Anyone who does anything computational will know some Unix basics, and just with Unix commands, you can start writing really complex code. We aren’t getting that complex, but we will get good to navigate and use a few of these commands. On your table is a list of major commands we will use regularly. A word in `<> `indicates things that need to be filled in and included. If you do not include the full path to a file in a command, then the the computer assumes that the file is in your current directory. To refer to a file outside your current directory, you have to use the full path. Use the laminated cheat sheet on your table to do the following:\n",
    "    1. Make a directory (`mkdir`) called `Lab6` in your personal folder (for this exercise, your “personal folder” is the folder you just made at `/home/NETID/shared_perickso/your_first_name` ). Please do not make your `Lab6 folder directly inside shared_perickso` \n",
    "    2. Change directories (`cd`) into your new `Lab6` folder. \n",
    "    3. Let’s make a small file: \n",
    "    - Type `echo “this is mytest” > test.txt` \n",
    "        \"echo\" in Linux is equivalent to \"print\"\n",
    "    - The ‘>’ is saying send what is printed out into a file with the name you give (here it’s `test.txt`) \n",
    "     - So, this command should create a new file called test.txt that has the words \"this is my test\" inside the file\n",
    "    4. Check if you successfully made this file by looking at the contents of your `Lab6/` folder (hint: use `ls`)\n",
    "      5. Check if the contents inside the `test.txt` file has the words “this is mytest” (hint: use `less` with the file name to see into the file and type \"q\" to exit after you have looked at it)\n",
    "      6. Make a new copy of your file called `test_copy.txt` (hint: `cp`)\n",
    "      7. Change the name of your original file to `test2.txt` (hint: `mv`)\n",
    "      8. Check your folder again – do you have only the two files you just made? If you made a few mistakes along the way, you might have a few extra files. You can use `rm` to get rid of them, but be careful, `rm` is permanent~\n",
    "      9. Make a folder called `trash` in your Lab 6 folder (hint: `mkdir`)\n",
    "      10. Move `test2.txt` to `trash`.\n",
    "      11. Navigate to your main folder and confirm that you are in the correct folder with `pwd` \n",
    "      12. I'll be checking in your folders to make sure you did all these things, so make sure that you have a `test.txt` file and a folder called `trash` containing `test2.txt`! It's okay if you made a mistake and have other accidental files (you can move them to `trash` if you want to clean up!"
   ]
  },
  {
   "cell_type": "markdown",
   "id": "9ea006b6",
   "metadata": {},
   "source": [
    "\n"
   ]
  },
  {
   "cell_type": "markdown",
   "id": "7d7bf1ce",
   "metadata": {},
   "source": [
    "## Part 3: More advanced file exploration with UNIX to look at a Fastq sequencing file\n",
    "\n",
    "16. Before you start this section, ensure that you are still in the directory `/home/YOURNETID/shared_perickso`  \n",
    "\n",
    "17. For the next part, we are going to learn a few more Unix commands to explore a **.fastq** file. Read the information below carefully as it is critical to understand the next portion of lab.\n",
    "\n",
    "    **fastq files are the raw sequencing files that are returned from a sequencing center containing our Illumina DNA sequencing reads.**\n",
    "\n",
    "    `fastq` files have a very specific format. There are 4 lines for each sequencing read in a fastq file (note that some “lines” might wrap to take up multiple lines in your terminal depending on the size of the window, but if you make the window wide enough, everything will show up in just 4 lines). The four line are:\n",
    "    \n",
    "\n",
    "   - the first line begins with **@** and contains unique sequence **identifier name** (a sequence of letters and numbers automatically generated by the sequencing machine and contains a lot of information about the spot on the flow cell that was used to generate the read)\n",
    "\n",
    "\n",
    "   - the second line has the **nucleotide sequences** of the sequencing: A,T,C, or G in order for the total number of bases in the read (150 in this case)\n",
    "\n",
    "\n",
    "   - the third line begins with **+**, which might be by itself or perhaps repeats the read name again\n",
    "\n",
    "\n",
    "   - line the fourth **Quality scores** for each base pair read. Different characters code for different qualities. Higher qualities indicate more confidence in the base call at each position of the read. Lower qualities indicate that the sequencing was less certain for that position.\n"
   ]
  },
  {
   "cell_type": "markdown",
   "id": "68beed41",
   "metadata": {},
   "source": [
    "**Question: Think back to the Illumina sequencing video we watched . What information does the sequencer detect to determine the order of bases in a single sequence?**\n",
    "\n",
    "**Answer here** "
   ]
  },
  {
   "cell_type": "markdown",
   "id": "e89a9c9f",
   "metadata": {},
   "source": [
    "**Question: Given your answer above, why do you think different positions in the read might have different quality scores?** \n",
    "\n",
    "**Answer here**"
   ]
  },
  {
   "cell_type": "markdown",
   "id": "3400b622",
   "metadata": {},
   "source": [
    "**Question: What is meant by \"paired end sequencing?\" (it's fine to look it up if you need a refresher)**\n",
    "\n",
    "**Answer here**"
   ]
  },
  {
   "cell_type": "markdown",
   "id": "fee3ffb3",
   "metadata": {},
   "source": [
    "18. The most common kind of sequencing is conducted with 150 bp paired end reads. In this case, you will get back two fastq files: one for all the read 1s and one with all the read 2s for every spot on the flow cell. The order of the files is identical, so that the first read in each file are a pair from the same molecule of DNA, the second read in each file are a pair from a different molecule of DNA, and so on. Typically these two files are named with “1.fastq” and “2.fastq” in their names. Each sequencing read will be the same length, which is designated by the sequencing run.\n",
    "\n",
    "    Fastq files from real experiments are generally quite large (containing millions of reads), so to get started we are going to look at a shortened set of files that contain some of the *Z. indianus* sequencing data we’ll be looking at.\n",
    "\n",
    "    Use a command from Table 2 to look at **just the first 8 lines** of the `sample1.fastq` file\n"
   ]
  },
  {
   "cell_type": "markdown",
   "id": "66b830ee",
   "metadata": {},
   "source": [
    "**Question: What are the first 10 bases of the very first sequencing read in `sample1.fastq`?**\n",
    "\n",
    "**Answer here**\n",
    "\n",
    "**Question: How many unique spots on the sequencing flow cell do these first 8 lines represent?** (hint: from above, how many lines of the file does it take to report out one sequencing read?)\n",
    "\n",
    "**Answer here**"
   ]
  },
  {
   "cell_type": "markdown",
   "id": "1c368b4d",
   "metadata": {},
   "source": [
    "**Question: How many bases and quality scores should be present in the even numbered lines of the file? (please don’t try to count them, read the information above)**\n",
    "\n",
    "**Answer number of bases:**\n",
    "\n",
    "**Answer number of quality scores:**"
   ]
  },
  {
   "cell_type": "markdown",
   "id": "65742683",
   "metadata": {},
   "source": [
    "19. Now run a command that will allow you to count the total number of lines in the read 1 and read 2 files."
   ]
  },
  {
   "cell_type": "markdown",
   "id": "4a2486f3",
   "metadata": {},
   "source": [
    "**Question: Why should there be an equal number of lines in the read 1 and read 2 files?**\n",
    "\n",
    "**Answer here**"
   ]
  },
  {
   "cell_type": "markdown",
   "id": "c0ede5b9",
   "metadata": {},
   "source": [
    "**Question: How many lines are in each file?**\n",
    "\n",
    "**Answer here**"
   ]
  },
  {
   "cell_type": "markdown",
   "id": "28b62a3f",
   "metadata": {},
   "source": [
    "**Question: How many _unique sequences_ are in each file?**\n",
    "\n",
    "**Answer here** "
   ]
  },
  {
   "cell_type": "markdown",
   "id": "12749b0c",
   "metadata": {},
   "source": [
    "**Question: How many total base pairs of sequence information are in each file, given the typical length of one sequencing read?**\n",
    "\n",
    "**Answer here**"
   ]
  },
  {
   "cell_type": "markdown",
   "id": "51c4b899",
   "metadata": {},
   "source": [
    "### *If you need a break, this is a good stopping point to rest your eyes and stretch your legs before continuing*"
   ]
  },
  {
   "cell_type": "markdown",
   "id": "b9486449",
   "metadata": {},
   "source": [
    "## Part 4: Using a program to perform an operation on a file"
   ]
  },
  {
   "cell_type": "markdown",
   "id": "6d7fc1b2",
   "metadata": {},
   "source": [
    "20. In Part 3, we saw that there is a quality score included in each sequence in a `fastq` file. As a reminder, these tell us our confidence in each base pair call. Now we are going to use a program to decode those quality scores in fun way.\n",
    "\n",
    "    The fastqe program is going to turn quality scores into emojis, with happier looking emojis indicating higher qualities and unhappy emojis indicating low quality scores. It will take the average quality score for each position across all the sequences in the fastq file (so the first emoji is the average quality of all the first bases, the second emoji is the average quality of all the second bases, etc)\n",
    "\n",
    "    To run the program, type `fastqe <name_of_fastq_file>` \n"
   ]
  },
  {
   "cell_type": "markdown",
   "id": "034a57fe",
   "metadata": {},
   "source": [
    "**Question: Run the `fastqe` program on each of our fastq files. How do the average quality scores of the two files seem to compare based on the emoji appearance?**\n",
    "\n",
    "**Answer here**"
   ]
  },
  {
   "cell_type": "markdown",
   "id": "fb9bd94f",
   "metadata": {},
   "source": [
    "**QUESTION: What happens to the quality scores as you move from the beginning of a sequencing read to closer to the end of the read? Why might that be the case?**\n",
    "\n",
    "**Answer here**"
   ]
  },
  {
   "cell_type": "markdown",
   "id": "a86d7619",
   "metadata": {},
   "source": [
    "20. But what do these emojis actually mean? To learn more about how a program works, you can usually access some sort of a manual or help page. There are different ways to do this, but often typing `<program_name> -h` will get you to a help screen. There, it will list information about the program and different options you can use to change the parameters of how a program runs. Use the command above to look at the help screen for `fastqe`."
   ]
  },
  {
   "cell_type": "markdown",
   "id": "be86ed4f",
   "metadata": {},
   "source": [
    "**QUESTION: Based on the help screen for `fastqe`, what option would you use to determine how the emojis are related to a quality score?**\n",
    "\n",
    "**Answer here**"
   ]
  },
  {
   "cell_type": "markdown",
   "id": "3984d00c",
   "metadata": {},
   "source": [
    "21. The general format for adding options is to type `<program_name> -<option> <input_file>` . The key here is to put a dash (-) in front of the option hame. Some options require two dashes (--). That is the case for fastqe; note that all the options in the list (except -h) have two dashes."
   ]
  },
  {
   "cell_type": "markdown",
   "id": "a3a97248",
   "metadata": {},
   "source": [
    "**Question: Which option could you use to find out what emoji means what quality score?**\n",
    "\n",
    "**Answer here**"
   ]
  },
  {
   "cell_type": "markdown",
   "id": "808f2a3a-51ea-4370-b37d-d1974aa1df04",
   "metadata": {
    "tags": []
   },
   "source": [
    "**Question: Use what you just learned to find out the emoji that represents a quality score of 9.**\n",
    "\n",
    "**Answer here**"
   ]
  },
  {
   "cell_type": "markdown",
   "id": "860d46d8",
   "metadata": {},
   "source": [
    "22. But what does a quality score of 9 actually mean? The scale that you were able to see in the previous question refers to a \"phred score\". Take a look at this explanation of phred scores: https://en.wikipedia.org/wiki/Phred_quality_score"
   ]
  },
  {
   "cell_type": "markdown",
   "id": "5f181129",
   "metadata": {},
   "source": [
    "**Question: Based on what you read, what does a phred score of 9 mean?**\n",
    "\n",
    "**Answer here**\n",
    "\n",
    "**QUESTION: What is the approximate error rate of our sequencing based on the typical emoji/Phred scores that you see and the wiki page? Explain how you arrived at your answer**\n",
    "\n",
    "**Answer here**"
   ]
  },
  {
   "cell_type": "markdown",
   "id": "6db92281",
   "metadata": {},
   "source": [
    "## Part 5: Looking at a reference genome file\n",
    "\n",
    "23. Sequencing reads are stored in `fastq` files (the **q** stands for quality because it contains quality information). Reference genomes are stored in `fasta` format, which is a simpler file format made up of two lines for each sequence:\n",
    "- A line beginning with `>` that has the sequence name\n",
    "- The sequence itself (As,Ts,Cs, and Gs)\n",
    "\n",
    "    Reference genomes are divided up into chromosomes, scaffolds, or contigs, depending on how well sequenced and assembled the genome is. The important point is that each one is a continuous DNA sequence of the organism. Fewer total elements in the reference genome generally indicates a more well-assembled genome with fewer broken up pieces. \n",
    "\n",
    "    Our reference genome is located at `~/shared/zind_ref_genome.fasta` [remember ~ is a shortcut that gets you back to the home directory, in this case /home/YOURNETID/]\n"
   ]
  },
  {
   "cell_type": "markdown",
   "id": "6fc4ee99",
   "metadata": {},
   "source": [
    "**Question: Use a command you used previously (see Table 2 if you need help) to look at the contents of the reference genome file. What is the name of the first sequence?**\n",
    "\n",
    "**Answer here**"
   ]
  },
  {
   "cell_type": "markdown",
   "id": "c65da31d-5746-4be6-838b-23ca76b22870",
   "metadata": {
    "tags": []
   },
   "source": [
    "Technical note: \"scaffold\" is a term used in genome assembly to denote the largest sequences that could be fit together. In our case, the genome assembly is very good and each scaffold is essentially a chromosome. So scaffold_1 is really chromosome 1, and each scaffold is named with subsequent numbers. "
   ]
  },
  {
   "cell_type": "markdown",
   "id": "6c1c57d8",
   "metadata": {},
   "source": [
    "**Question: Use a command you used previously (see Table 2) to count the number of lines in the reference genome**\n",
    "\n",
    "**Answer here**"
   ]
  },
  {
   "cell_type": "markdown",
   "id": "76a52550",
   "metadata": {},
   "source": [
    "24. Another fun Unix command is `grep`, which is essentially a way to search a file for a text string (like hitting command/control+F on your computer). The usage is `grep <search_string> <input_file>`"
   ]
  },
  {
   "cell_type": "markdown",
   "id": "6e90bdd2",
   "metadata": {},
   "source": [
    "**Question: What command might you be able to use to find all the lines that have chromosome names in them? (Hint: think about the name of the first sequence above and how you could incorporate it into `grep`) \n",
    "\n",
    "**Answer here** "
   ]
  },
  {
   "cell_type": "markdown",
   "id": "30281fe4",
   "metadata": {},
   "source": [
    "**QUESTION: Run your code from the previous question. How many chromosomes does *Z. indianus* have according to this reference genome?**\n",
    "\n",
    "**Answer here** "
   ]
  },
  {
   "cell_type": "markdown",
   "id": "b774a3c6",
   "metadata": {},
   "source": [
    "25. Often reference genomes come with an index file, designated with .fai at the end of the file name, which provides summary information about each chromosome or scaffold in the reference genome. Find the `.fai` file associated with our reference genome in the `/shared` directory and take a look at it using `less`. The first column has the name of each chromosome and the second column has the length of that sequence. We will not worry about the remaining columns right now. Remember that you will need to type `q` to exist after you use `less` to view the file "
   ]
  },
  {
   "cell_type": "markdown",
   "id": "bd3fade1",
   "metadata": {},
   "source": [
    "**Question: what is the longest chromosome in the _Z. indianus_ genome and how long is it?**\n",
    "\n",
    "**Answer here** "
   ]
  },
  {
   "cell_type": "markdown",
   "id": "907b9f52",
   "metadata": {},
   "source": [
    "**QUESTION: Round each chromosome to the nearest million bp to estimate the total size of the _Z. indianus_ reference genome**\n",
    "\n",
    "**Answer here**"
   ]
  },
  {
   "cell_type": "markdown",
   "id": "579436a9",
   "metadata": {},
   "source": [
    "**FINAL CHALLENGE QUESTION: Based on your answer above, how many 150 bp reads would we need in our sequencing to have an average depth of 100 (in other words, 100 sequencing reads spanning each position of the genome? A depth of 100 is often considered a minimum to accurately analyze allele frequencies in pooled sequencing data. Remember that we will be calculating allele frequencies by calculating the proportion of sequencing reads containing reference or alternate alleles for each SNP**\n",
    "\n",
    "**Answer here**"
   ]
  },
  {
   "cell_type": "markdown",
   "id": "3b415e24",
   "metadata": {},
   "source": [
    "We will stop here for today, but next week we will learn how to process all those raw sequencing reads and map them to a reference genome to find out where they align."
   ]
  },
  {
   "cell_type": "markdown",
   "id": "8f5dd98b",
   "metadata": {},
   "source": [
    "When you are done, use the File -> Print menu to print your notebook to a PDF. Alternatively, you can use File --> Export as --> PDF to save a PDF. Either way, upload your final PDF to Blackboard when you are done to get credit for today's lab. \n",
    "\n",
    "You're done! Great job :) "
   ]
  }
 ],
 "metadata": {
  "kernelspec": {
   "display_name": "Bash",
   "language": "bash",
   "name": "bash"
  },
  "language_info": {
   "codemirror_mode": "shell",
   "file_extension": ".sh",
   "mimetype": "text/x-sh",
   "name": "bash"
  }
 },
 "nbformat": 4,
 "nbformat_minor": 5
}
